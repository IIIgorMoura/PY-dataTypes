{
 "cells": [
  {
   "cell_type": "markdown",
   "metadata": {},
   "source": [
    "# Tipos abstratos de dados"
   ]
  },
  {
   "cell_type": "markdown",
   "metadata": {},
   "source": [
    "### Exercícios"
   ]
  },
  {
   "cell_type": "code",
   "execution_count": 15,
   "metadata": {},
   "outputs": [
    {
     "name": "stdout",
     "output_type": "stream",
     "text": [
      "Topo da pilha:  15\n",
      "Elemento no topo removido:  15\n",
      "Novo topo da pilha:  10\n",
      "A pilha está vazia?  False\n",
      "Pilha:  [5, 10]\n"
     ]
    }
   ],
   "source": [
    "# 1\n",
    "pilha = []\n",
    "\n",
    "pilha.append(5)\n",
    "pilha.append(10)\n",
    "pilha.append(15)\n",
    "\n",
    "print(\"Topo da pilha: \", pilha[-1])\n",
    "\n",
    "print(\"Elemento no topo removido: \", pilha.pop())\n",
    "print(\"Novo topo da pilha: \", pilha[-1])\n",
    "\n",
    "print(\"A pilha está vazia? \", len(pilha) == 0)\n",
    "print(\"Pilha: \", pilha)"
   ]
  },
  {
   "cell_type": "code",
   "execution_count": 13,
   "metadata": {},
   "outputs": [
    {
     "name": "stdout",
     "output_type": "stream",
     "text": [
      "Pilha: Base -> [100, 200, 300] <- Topo\n",
      "Topo da pilha:  300\n",
      "Elemento no topo removido:  300\n",
      "Novo topo da pilha:  200\n",
      "Elemento no topo removido:  200\n",
      "Elemento no topo removido:  100\n",
      "A pilha está vazia?  True\n"
     ]
    }
   ],
   "source": [
    "# 2\n",
    "pilha = []\n",
    "\n",
    "pilha.append(100)\n",
    "pilha.append(200)\n",
    "pilha.append(300)\n",
    "\n",
    "print(\"Pilha: Base ->\", pilha, \"<- Topo\")\n",
    "\n",
    "print(\"Topo da pilha: \", pilha[-1])\n",
    "\n",
    "print(\"Elemento no topo removido: \", pilha.pop())\n",
    "\n",
    "print(\"Novo topo da pilha: \", pilha[-1])\n",
    "\n",
    "print(\"Elemento no topo removido: \", pilha.pop())\n",
    "print(\"Elemento no topo removido: \", pilha.pop())\n",
    "\n",
    "print(\"A pilha está vazia? \", len(pilha) == 0)"
   ]
  },
  {
   "cell_type": "code",
   "execution_count": 40,
   "metadata": {},
   "outputs": [
    {
     "name": "stdout",
     "output_type": "stream",
     "text": [
      "Uma\n",
      "Uma frase\n",
      "Uma frase eescrita\n",
      "Uma frase eescrita errada\n",
      "Uma frase eescrita\n",
      "Uma frase\n",
      "Uma\n",
      "Uma frase\n",
      "Uma frase escrita\n",
      "Uma frase escrita corretamente\n",
      "Uma frase escrita\n",
      "Uma frase\n",
      "Uma frase nova\n",
      "--// Conteúdo da versão final do documento: //--\n",
      "Uma frase nova\n"
     ]
    }
   ],
   "source": [
    "# 3\n",
    "frase = []\n",
    "ultimasPalavras = []\n",
    "\n",
    "while True:\n",
    "    palavra = input(\"Digite uma palavra ou frase para ser adicionada ao documento: (Digite 'z' para desfazer, 'x' para refazer, 'c' para sair)\")\n",
    "    if palavra == \"0\":\n",
    "        break\n",
    "    # desfazer\n",
    "    elif palavra == \"z\":\n",
    "        # tratamento de erro: ARRAY VAZIO\n",
    "        if frase:\n",
    "            ultimasPalavras.append(frase[-1])\n",
    "            frase.pop()\n",
    "        else:\n",
    "            print('--// Não há nada para ser desfeito, você pode refazer digitando \"X\" //--')\n",
    "\n",
    "    # refazer\n",
    "    elif palavra == \"x\":\n",
    "        # tratamento de erro: ARRAY VAZIO\n",
    "        if ultimasPalavras:\n",
    "            frase.append(ultimasPalavras[-1])\n",
    "            ultimasPalavras.pop()\n",
    "        else:\n",
    "            print('--// Não há nada para ser desfeito, você pode refazer digitando \"X\" //--')\n",
    "    else:\n",
    "        frase.append(palavra)\n",
    "\n",
    "    final = ' '.join(frase)\n",
    "    print(final)\n",
    "    \n",
    "print(\"--// Conteúdo da versão final do documento: //--\")\n",
    "\n",
    "final = ' '.join(frase)\n",
    "print(final)"
   ]
  },
  {
   "cell_type": "code",
   "execution_count": 22,
   "metadata": {},
   "outputs": [
    {
     "name": "stdout",
     "output_type": "stream",
     "text": [
      "Fila:  deque([100, 200, 300])\n",
      "Primeiro elemento da fila:  100\n",
      "Primeiro elemento da fila removido:  100\n",
      "Novo primeiro elemento da fila:  200\n",
      "A fila está vazia?  False\n"
     ]
    }
   ],
   "source": [
    "# 4\n",
    "from collections import deque\n",
    "\n",
    "fila = deque()\n",
    "\n",
    "fila.append(100)\n",
    "fila.append(200)\n",
    "fila.append(300)\n",
    "\n",
    "print(\"Fila: \", fila)\n",
    "\n",
    "print(\"Primeiro elemento da fila: \", fila[0])\n",
    "\n",
    "print(\"Primeiro elemento da fila removido: \", fila.popleft())\n",
    "\n",
    "print(\"Novo primeiro elemento da fila: \", fila[0])\n",
    "\n",
    "print(\"A fila está vazia? \", len(fila) == 0)"
   ]
  },
  {
   "cell_type": "code",
   "execution_count": 31,
   "metadata": {},
   "outputs": [
    {
     "name": "stdout",
     "output_type": "stream",
     "text": [
      "Fila de pacientes do dia:  deque(['Joana', 'Marcelo', 'Rayssa'])\n",
      "Próxima pessoa a ser atendida da fila:  Joana\n",
      "Pessoa atendida:  Joana\n",
      "Próxima pessoa a ser atendida da fila:  Marcelo\n",
      "Pessoa atendida:  Marcelo\n",
      "Próxima pessoa a ser atendida da fila:  Rayssa\n",
      "Pessoa atendida:  Rayssa\n",
      "A fila está vazia?  True\n"
     ]
    }
   ],
   "source": [
    "# 5\n",
    "from collections import deque\n",
    "\n",
    "fila = deque()\n",
    "\n",
    "fila.append(\"Joana\")\n",
    "fila.append(\"Marcelo\")\n",
    "fila.append(\"Rayssa\")\n",
    "\n",
    "print(\"Fila de pacientes do dia: \", fila)\n",
    "\n",
    "for paciente in range(len(fila)):\n",
    "    print(\"Próxima pessoa a ser atendida da fila: \", fila[0])\n",
    "    print(\"Pessoa atendida: \", fila.popleft())"
   ]
  },
  {
   "cell_type": "code",
   "execution_count": null,
   "metadata": {},
   "outputs": [
    {
     "name": "stdout",
     "output_type": "stream",
     "text": [
      "Documentos (3):  deque(['arroz.docx', 'feijão.xlsx', 'batata.pptx'])\n",
      "Imprimindo o documento:  arroz.docx\n",
      "Documento impresso:  arroz.docx\n",
      "Próximo documento a ser impresso:  feijão.xlsx\n"
     ]
    }
   ],
   "source": [
    "# 6\n",
    "from collections import deque\n",
    "documentos = deque()\n",
    "\n",
    "i = 0\n",
    "while True:\n",
    "    i += 1\n",
    "    documento = input(f\"Digite o nome do {i}º arquivo (Digite 0 para sair): \")\n",
    "    if documento == '0':\n",
    "        break  # Sai do loop quando o usuário digitar '0'\n",
    "    documentos.append(documento)\n",
    "\n",
    "print(f\"Documentos ({len(documentos)}): \", documentos)\n",
    "\n",
    "# impressão de somente 1 arquivo conforme critérios do exercício\n",
    "print(\"Imprimindo o documento: \", documentos[0])\n",
    "print(\"Documento impresso: \", documentos.popleft())      \n",
    "\n",
    "if len(documentos) == 0:\n",
    "    print(\"Todos os documentos foram impressos\")\n",
    "else:\n",
    "    print(\"Próximo documento a ser impresso: \", documentos[0])  \n",
    "    "
   ]
  },
  {
   "cell_type": "code",
   "execution_count": 46,
   "metadata": {},
   "outputs": [
    {
     "name": "stdout",
     "output_type": "stream",
     "text": [
      "Chamadas não atendidas:  ['11 97635-3294', '11 93637-6253', '11 99964-2578']\n",
      "A chamada a ser atendida primeiro é:  11 99964-2578\n",
      "Chamada atendida:  11 99964-2578\n",
      "Próxima chamada não atendida:  11 93637-6253\n",
      "Chamada atendida:  11 93637-6253\n",
      "Ainda há chamadas restantes?  True\n"
     ]
    }
   ],
   "source": [
    "# 7\n",
    "pilha_chamadas = []\n",
    "\n",
    "pilha_chamadas.append(\"11 97635-3294\") \n",
    "pilha_chamadas.append(\"11 93637-6253\")  \n",
    "pilha_chamadas.append(\"11 99964-2578\")  \n",
    "\n",
    "print(\"Chamadas não atendidas: \", pilha_chamadas)\n",
    "\n",
    "print(\"A chamada a ser atendida primeiro é: \", pilha_chamadas[-1])\n",
    "\n",
    "print(\"Chamada atendida: \", pilha_chamadas.pop())\n",
    "\n",
    "print(\"Próxima chamada não atendida: \", pilha_chamadas[-1])\n",
    "print(\"Chamada atendida: \", pilha_chamadas.pop())\n",
    "\n",
    "print(\"Ainda há chamadas restantes? \", len(pilha_chamadas) != 0)"
   ]
  },
  {
   "cell_type": "code",
   "execution_count": 43,
   "metadata": {},
   "outputs": [
    {
     "name": "stdout",
     "output_type": "stream",
     "text": [
      "Você acessou: youtube.com\n",
      "Histórico atual: ['youtube.com']\n",
      "Você acessou: chat.openai.com\n",
      "Histórico atual: ['youtube.com', 'chat.openai.com']\n",
      "Você acessou: x.com\n",
      "Histórico atual: ['youtube.com', 'chat.openai.com', 'x.com']\n",
      "Você voltou para: chat.openai.com\n",
      "Histórico atual: ['youtube.com', 'chat.openai.com']\n",
      "Você avançou para: x.com\n",
      "Histórico atual: ['youtube.com', 'chat.openai.com', 'x.com']\n"
     ]
    }
   ],
   "source": [
    "# 8\n",
    "historico = [] \n",
    "voltar_pagina = [] \n",
    "\n",
    "while True:\n",
    "    comando = input(\"Digite o site a ser acessado, (Digite 'z' para VOLTAR à página anterior, 'x' para AVANÇAR para a página atual ou '0' para sair): \")\n",
    "\n",
    "    if comando == \"0\":\n",
    "        break\n",
    "\n",
    "    # voltar à página anterior\n",
    "    elif comando == \"z\":\n",
    "        if historico:\n",
    "            pagina_atual = historico.pop()\n",
    "            voltar_pagina.append(pagina_atual)\n",
    "\n",
    "            if historico:\n",
    "                print(f\"Você voltou para: {historico[-1]}\")\n",
    "            else:\n",
    "                print(\"Não há páginas anteriores para voltar.\")\n",
    "\n",
    "    # avançar para a página atual\n",
    "    elif comando == \"x\":\n",
    "        if voltar_pagina:\n",
    "            pagina_refazer = voltar_pagina.pop() \n",
    "            historico.append(pagina_refazer)\n",
    "            print(f\"Você avançou para: {pagina_refazer}\")\n",
    "        else:\n",
    "            print(\"Não há páginas para avançar.\")\n",
    "\n",
    "    else:\n",
    "        historico.append(comando)\n",
    "        print(f\"Você acessou: {comando}\")\n",
    "\n",
    "    print(\"Histórico atual:\", historico)\n"
   ]
  },
  {
   "cell_type": "markdown",
   "metadata": {},
   "source": [
    "### Testes"
   ]
  },
  {
   "cell_type": "code",
   "execution_count": 2,
   "metadata": {},
   "outputs": [
    {
     "name": "stdout",
     "output_type": "stream",
     "text": [
      "2345\n",
      "2345\n",
      "[23456789, 2389, 23, 89, 26789]\n",
      "False\n"
     ]
    }
   ],
   "source": [
    "pilha = []\n",
    "\n",
    "# empilhar elementos\n",
    "    # utiliza o append\n",
    "\n",
    "pilha.append(23456789)\n",
    "pilha.append(2389)\n",
    "pilha.append(23)\n",
    "pilha.append(89)\n",
    "pilha.append(26789)\n",
    "pilha.append(2345)\n",
    "\n",
    "print(pilha[-1])\n",
    "\n",
    "# desempilhar removendo o item do topo\n",
    "print(pilha.pop())\n",
    "\n",
    "print(pilha)\n",
    "\n",
    "print(len(pilha) == 0)"
   ]
  },
  {
   "cell_type": "code",
   "execution_count": 7,
   "metadata": {},
   "outputs": [
    {
     "name": "stdout",
     "output_type": "stream",
     "text": [
      "deque([23456789, 2389, 23, 89, 26789, 2345])\n",
      "23456789\n",
      "Elemento removido:  23456789\n",
      "2389\n"
     ]
    }
   ],
   "source": [
    "from collections import deque\n",
    "\n",
    "fila = deque()\n",
    "\n",
    "# enfileirar elementos\n",
    "fila.append(23456789)\n",
    "fila.append(2389)\n",
    "fila.append(23)\n",
    "fila.append(89)\n",
    "fila.append(26789)\n",
    "fila.append(2345)\n",
    "\n",
    "print(fila)\n",
    "\n",
    "# show first item\n",
    "print(fila[0])\n",
    "    # in this method, its no longer [-1]\n",
    "\n",
    "# desenfileirar primeiro elemento \n",
    "print(\"Elemento removido: \", fila.popleft())\n",
    "print(fila[0])\n"
   ]
  }
 ],
 "metadata": {
  "kernelspec": {
   "display_name": "testsIniciaisENV",
   "language": "python",
   "name": "python3"
  },
  "language_info": {
   "codemirror_mode": {
    "name": "ipython",
    "version": 3
   },
   "file_extension": ".py",
   "mimetype": "text/x-python",
   "name": "python",
   "nbconvert_exporter": "python",
   "pygments_lexer": "ipython3",
   "version": "3.12.8"
  }
 },
 "nbformat": 4,
 "nbformat_minor": 2
}
