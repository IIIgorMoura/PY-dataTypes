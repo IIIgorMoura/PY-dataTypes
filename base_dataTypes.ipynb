{
 "cells": [
  {
   "cell_type": "markdown",
   "metadata": {},
   "source": [
    "# Tipos de dados"
   ]
  },
  {
   "cell_type": "code",
   "execution_count": 79,
   "metadata": {},
   "outputs": [
    {
     "name": "stdout",
     "output_type": "stream",
     "text": [
      "[5, 6]\n",
      "[5, 6]\n"
     ]
    }
   ],
   "source": [
    "# 1\n",
    "lista1 = [1,2,3,4,5,6]\n",
    "lista2 = [5,6,7,8,9,0]\n",
    "\n",
    "def intersection(lista1, lista2):\n",
    "    interseccao = []\n",
    "    for i in lista1:\n",
    "        if i in lista2:\n",
    "            interseccao.append(i)\n",
    "    return interseccao\n",
    "\n",
    "intersection(lista1, lista2)\n",
    "\n",
    "# outra possibilidade\n",
    "\n",
    "# def interseccao_lista(lista1, lista2):\n",
    "#     return list(set(lista1) & set(lista2))\n",
    "\n",
    "# interseccao_lista(lista1, lista2)\n"
   ]
  },
  {
   "cell_type": "code",
   "execution_count": 80,
   "metadata": {},
   "outputs": [
    {
     "ename": "TypeError",
     "evalue": "list indices must be integers or slices, not str",
     "output_type": "error",
     "traceback": [
      "\u001b[1;31m---------------------------------------------------------------------------\u001b[0m",
      "\u001b[1;31mTypeError\u001b[0m                                 Traceback (most recent call last)",
      "Cell \u001b[1;32mIn[80], line 8\u001b[0m\n\u001b[0;32m      1\u001b[0m \u001b[38;5;66;03m# 2\u001b[39;00m\n\u001b[0;32m      2\u001b[0m listaAlunos \u001b[38;5;241m=\u001b[39m [\n\u001b[0;32m      3\u001b[0m     {\u001b[38;5;124m\"\u001b[39m\u001b[38;5;124mnome\u001b[39m\u001b[38;5;124m\"\u001b[39m: \u001b[38;5;124m\"\u001b[39m\u001b[38;5;124mEduardo\u001b[39m\u001b[38;5;124m\"\u001b[39m, \u001b[38;5;124m\"\u001b[39m\u001b[38;5;124mnota\u001b[39m\u001b[38;5;124m\"\u001b[39m: \u001b[38;5;241m9\u001b[39m},\n\u001b[0;32m      4\u001b[0m     {\u001b[38;5;124m\"\u001b[39m\u001b[38;5;124mnome\u001b[39m\u001b[38;5;124m\"\u001b[39m: \u001b[38;5;124m\"\u001b[39m\u001b[38;5;124mManuel\u001b[39m\u001b[38;5;124m\"\u001b[39m, \u001b[38;5;124m\"\u001b[39m\u001b[38;5;124mnota\u001b[39m\u001b[38;5;124m\"\u001b[39m: \u001b[38;5;241m8.5\u001b[39m},\n\u001b[0;32m      5\u001b[0m     {\u001b[38;5;124m\"\u001b[39m\u001b[38;5;124mnome\u001b[39m\u001b[38;5;124m\"\u001b[39m: \u001b[38;5;124m\"\u001b[39m\u001b[38;5;124mGustav\u001b[39m\u001b[38;5;124m\"\u001b[39m, \u001b[38;5;124m\"\u001b[39m\u001b[38;5;124mnota\u001b[39m\u001b[38;5;124m\"\u001b[39m: \u001b[38;5;241m10\u001b[39m} \n\u001b[0;32m      6\u001b[0m ]\n\u001b[1;32m----> 8\u001b[0m \u001b[38;5;28mprint\u001b[39m(\u001b[38;5;28mmax\u001b[39m(\u001b[43mlistaAlunos\u001b[49m\u001b[43m[\u001b[49m\u001b[38;5;124;43m\"\u001b[39;49m\u001b[38;5;124;43mnota\u001b[39;49m\u001b[38;5;124;43m\"\u001b[39;49m\u001b[43m]\u001b[49m))\n\u001b[0;32m     10\u001b[0m listaTuplasAlunos \u001b[38;5;241m=\u001b[39m [\n\u001b[0;32m     11\u001b[0m     {\u001b[38;5;124m\"\u001b[39m\u001b[38;5;124mEduardo\u001b[39m\u001b[38;5;124m\"\u001b[39m, \u001b[38;5;241m9\u001b[39m},\n\u001b[0;32m     12\u001b[0m     {\u001b[38;5;124m\"\u001b[39m\u001b[38;5;124mManuel\u001b[39m\u001b[38;5;124m\"\u001b[39m, \u001b[38;5;241m8.5\u001b[39m},\n\u001b[0;32m     13\u001b[0m     {\u001b[38;5;124m\"\u001b[39m\u001b[38;5;124mGustav\u001b[39m\u001b[38;5;124m\"\u001b[39m, \u001b[38;5;241m10\u001b[39m} \n\u001b[0;32m     14\u001b[0m ]\n\u001b[0;32m     16\u001b[0m \u001b[38;5;28;01mfor\u001b[39;00m i \u001b[38;5;129;01min\u001b[39;00m listaTuplasAlunos[\u001b[38;5;241m1\u001b[39m]:\n",
      "\u001b[1;31mTypeError\u001b[0m: list indices must be integers or slices, not str"
     ]
    }
   ],
   "source": [
    "# listaAlunos = [\n",
    "#     {\"nome\": \"Eduardo\", \"nota\": 9},\n",
    "#     {\"nome\": \"Manuel\", \"nota\": 8.5},\n",
    "#     {\"nome\": \"Gustav\", \"nota\": 10} \n",
    "# ]\n",
    "\n",
    "# print(max(listaAlunos[\"nota\"]))\n",
    "\n",
    "# listaTuplasAlunos = [\n",
    "#     {\"Eduardo\", 9},\n",
    "#     {\"Manuel\", 8.5},\n",
    "#     {\"Gustav\", 10} \n",
    "# ]\n",
    "\n",
    "# for i in listaTuplasAlunos[1]:\n",
    "#     print(i)"
   ]
  },
  {
   "cell_type": "code",
   "execution_count": 67,
   "metadata": {},
   "outputs": [
    {
     "data": {
      "text/plain": [
       "{5, 6}"
      ]
     },
     "execution_count": 67,
     "metadata": {},
     "output_type": "execute_result"
    }
   ],
   "source": [
    "listaA = [1, 2, 3, 4, 5, 6]\n",
    "listaB = [5, 6, 7, 8, 9, 0]\n",
    "\n",
    "def intersectionConjunto(listaA, listaB):\n",
    "    conjunto = set()\n",
    "    for i in listaA:\n",
    "        if i in listaB:\n",
    "            conjunto.add(i) \n",
    "\n",
    "    return conjunto \n",
    "\n",
    "intersectionConjunto(listaA, listaB)\n"
   ]
  },
  {
   "cell_type": "markdown",
   "metadata": {},
   "source": [
    "# Testes"
   ]
  },
  {
   "cell_type": "code",
   "execution_count": 1,
   "metadata": {},
   "outputs": [
    {
     "name": "stdout",
     "output_type": "stream",
     "text": [
      "vermelho\n"
     ]
    }
   ],
   "source": [
    "frutas = [\"maçã\", \"banana\", \"laranja\"]\n",
    "numeros = [1, 2, 3, 4, 5]\n",
    "\n",
    "tuplaCONST = (\"azul\", \"vermelho\", \"amarelo\")\n",
    "print(tuplaCONST[1])"
   ]
  },
  {
   "cell_type": "code",
   "execution_count": 2,
   "metadata": {},
   "outputs": [
    {
     "name": "stdout",
     "output_type": "stream",
     "text": [
      "<class 'list'>\n"
     ]
    }
   ],
   "source": [
    "# estruturas homo e hetero\n",
    "lista_homogenea = [1,2,3,4,5,6,7,8,9,0]\n",
    "lista_hetero = [1,\"arroz\",1.999,True]\n",
    "\n",
    "print(type(lista_hetero))\n",
    "\n"
   ]
  },
  {
   "cell_type": "code",
   "execution_count": 41,
   "metadata": {},
   "outputs": [
    {
     "name": "stdout",
     "output_type": "stream",
     "text": [
      "Nome do aluno: Juan\n",
      "{'nome': 'Juan', 'idade': 65, 'curso': 'Data Science', 'pagamento_realizado': True}\n",
      "{'nome': 'Juan', 'idade': 23, 'curso': 'Data Science', 'pagamento_realizado': True, 'email': 'a@a.com'}\n",
      "{'nome': 'Juan', 'idade': 23, 'curso': 'Data Science', 'email': 'a@a.com'}\n",
      "True\n",
      "False\n",
      "nome: Juan\n",
      "idade: 23\n",
      "curso: Data Science\n",
      "email: a@a.com\n",
      "[(1, 2, 3), (4, 5, 6)]\n",
      "\n",
      "Dados do aluno: Juan\n",
      "    idade: 12\n",
      "    curso: Cybersec\n",
      "\n",
      "Dados do aluno: Carlo\n",
      "    idade: 38\n",
      "    curso: Artificial Intelligence\n",
      "\n",
      "Dados do aluno: Emmanuel\n",
      "    idade: 56\n",
      "    curso: Software Development\n"
     ]
    }
   ],
   "source": [
    "# dicionario\n",
    "aluno = {\n",
    "    \"nome\": \"Juan\", \"idade\": 65, \"curso\": \"Data Science\", \"pagamento_realizado\": True,\n",
    "}\n",
    "\n",
    "# trazer valor de X chave dentro do dicionario/objeto\n",
    "print(f\"Nome do aluno: {aluno[\"nome\"]}\")\n",
    "\n",
    "print(aluno)\n",
    "\n",
    "# adicionar item chaveValor no objeto\n",
    "# não precisa de .append() / .insert()\n",
    "aluno[\"email\"] = \"a@a.com\"\n",
    "\n",
    "# mod value\n",
    "    # se ja existe a chave, então ele mod o Value, se não, ele cria\n",
    "aluno[\"idade\"] = 23\n",
    "print(aluno)\n",
    "\n",
    "# remover item do objeto\n",
    "del aluno[\"pagamento_realizado\"]\n",
    "print(aluno)\n",
    "\n",
    "# verify se chave existe no objeto\n",
    "print(\"idade\" in aluno)\n",
    "\n",
    "print(\"pagamento_realizado\" in aluno)\n",
    "\n",
    "\n",
    "\n",
    "# exibir visualmente cada item da lista\n",
    "    # items() trans objeto em listas\n",
    "for chave, valor in aluno.items():\n",
    "    print(f\"{chave}: {valor}\")\n",
    "\n",
    "\n",
    "\n",
    "\n",
    "# OBJECTS LIST (lista de dicionarios)\n",
    "    # like in JSON files\n",
    "alunos = [\n",
    "    {\n",
    "        \"nome\": \"Juan\",\n",
    "        \"idade\": 12,\n",
    "        \"curso\": \"Cybersec\"\n",
    "    },\n",
    "    {\n",
    "        \"nome\": \"Carlo\",\n",
    "        \"idade\": 38,\n",
    "        \"curso\": \"Artificial Intelligence\"\n",
    "    },\n",
    "    {\n",
    "        \"nome\": \"Emmanuel\",\n",
    "        \"idade\": 56,\n",
    "        \"curso\": \"Software Development\"\n",
    "    },\n",
    "]\n",
    "\n",
    "for i in alunos:\n",
    "    print(f\"\\nDados do aluno: {i['nome']}\")\n",
    "    for chave, valor in i.items():\n",
    "        if chave != \"nome\":\n",
    "            print(f\"    {chave}: {valor}\")\n"
   ]
  },
  {
   "cell_type": "code",
   "execution_count": 26,
   "metadata": {},
   "outputs": [
    {
     "name": "stdout",
     "output_type": "stream",
     "text": [
      "{'Gustav', 'Eduard', 'Eduardo', 'Gustavo'}\n",
      "{'Eduard', 'Emmanuel', 'Gustavo', 'Eduardo'}\n",
      "True\n",
      "False\n"
     ]
    }
   ],
   "source": [
    "# conjuntos\n",
    "\n",
    "# CONJUNTOS IGNORAM DUPLICATAS E ORDEM\n",
    "nomes = {\"Gustav\", \"Eduardo\", \"Gustavo\", \"Eduardo\", \"Eduard\"}\n",
    "\n",
    "print(nomes)\n",
    "\n",
    "nomes.add(\"Emmanuel\")\n",
    "nomes.remove(\"Gustav\")\n",
    "\n",
    "print(nomes)\n",
    "\n",
    "print(\"Eduard\" in nomes)\n",
    "print(\"Gustav\" in nomes)"
   ]
  },
  {
   "cell_type": "code",
   "execution_count": 36,
   "metadata": {},
   "outputs": [
    {
     "name": "stdout",
     "output_type": "stream",
     "text": [
      "{1, 2, 3, 4, 5, 6}\n",
      "{3, 4}\n",
      "{1, 2}\n",
      "{1, 2, 5, 6}\n"
     ]
    }
   ],
   "source": [
    "# operações entre conjuntos\n",
    "\n",
    "conj_a = {1,2,3, 4}\n",
    "conj_b = {3, 4,5,6}\n",
    "\n",
    "# unite all elements of both CONJs\n",
    "union = conj_a | conj_b\n",
    "print(union)\n",
    "\n",
    "# intersection: Traz quais elementos tem em comum nos CONJs\n",
    "intersection = conj_a & conj_b\n",
    "print(intersection)\n",
    "\n",
    "# diff: Traz elementos q nao estao em ambos\n",
    "    # neste caso mostra os q estao em A mas nao em B\n",
    "diff = conj_a - conj_b\n",
    "print(diff)\n",
    "\n",
    "# symetric diff: real diff, mostra tds q n se repete\n",
    "symDiff = conj_a ^ conj_b\n",
    "print(symDiff) "
   ]
  }
 ],
 "metadata": {
  "kernelspec": {
   "display_name": "Python 3",
   "language": "python",
   "name": "python3"
  },
  "language_info": {
   "codemirror_mode": {
    "name": "ipython",
    "version": 3
   },
   "file_extension": ".py",
   "mimetype": "text/x-python",
   "name": "python",
   "nbconvert_exporter": "python",
   "pygments_lexer": "ipython3",
   "version": "3.12.1"
  }
 },
 "nbformat": 4,
 "nbformat_minor": 2
}
